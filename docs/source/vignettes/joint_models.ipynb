{
 "cells": [
  {
   "cell_type": "markdown",
   "metadata": {},
   "source": [
    "# Joint modeling of multiple experiments\n",
    "\n",
    "Often we are interested in comparing the peptides identified and quantified between multiple experimental conditions. In this case, we want to obtain valid confidence estimates for PSMs and peptides in each experiment, such that we can make a statement such as: \"we detected peptide x in sample y.\" To accomplish this using Percolator, we would have two options: 1) analyze each experiment with Percolator independently---that is, run Perolator once on each experiment---or 2) learn a static model from an external training set, then apply the static model to each experiment in separate Percolator runs. The former doesn't require any additional data, but the learned models can vary between experiments (particularly if they are small experiments) and result more missing values between them. Conversly, the latter can result in a more coehisive set of PSM or peptide detections, but requires an external dataset on which to train the model.\n",
    "\n",
    "In mokapot we've implemented a third strategy: when provided with multiple experiments, we learn a joint model from all of the PSMs then assign confidence estimates for each experiment individually. We'll explore this feature in this vignette using the PSMs assigned by [Tide-search](http://crux.ms/tide-search) for three single-cell proteomics experiments from: \n",
    "\n",
    "> Specht, Harrison, et al. \"Single-cell mass-spectrometry quantifies the emergence of macrophage heterogeneity.\" bioRxiv (2019): 665307.\n",
    "\n",
    "In what follows, we'll analyze these experiments individually and using the joint modeling strategy, then compare their performance. We've performed these analyses using mokapot's Python API within a [Jupyter notebook](https://jupyter.org/), which is available using the download link at the top of the page. In this vignette, we assume you're somewhat familiar with the Python API; if not, consider checking out the \"[First steps using mokapot in Python](basic_python_api.ipynb)\" vignette first.\n",
    "\n",
    "\n",
    "## Following along locally\n",
    "\n",
    "To run this notebook, you'll need to have [mokapot](../index.rst#installation) installed and have the input files saved on your computer in the same directory. You can find these files here: [scope2_FP97AA.pin](https://github.com/wfondrie/mokapot/raw/master/data/scope2_FP97AA.pin), [scope2_FP97AB.pin](https://github.com/wfondrie/mokapot/raw/master/data/scope2_FP97AB.pin), [scope2_FP97AC.pin](https://github.com/wfondrie/mokapot/raw/master/data/scope2_FP97AC.pin)\n",
    "\n",
    "We can set the path to the input files here:"
   ]
  },
  {
   "cell_type": "code",
   "execution_count": 1,
   "metadata": {},
   "outputs": [],
   "source": [
    "pin_dir = \"../../../data\""
   ]
  },
  {
   "cell_type": "markdown",
   "metadata": {},
   "source": [
    "## Setup our Python environment\n",
    "\n",
    "Before we can perform the analyses, we need to import the Python packages that we'll be using. Additionally, it's a good idea to set the random seed for reproducibility."
   ]
  },
  {
   "cell_type": "code",
   "execution_count": 2,
   "metadata": {},
   "outputs": [
    {
     "data": {
      "text/plain": [
       "['../../../data/scope2_FP97AA.pin',\n",
       " '../../../data/scope2_FP97AB.pin',\n",
       " '../../../data/scope2_FP97AC.pin']"
      ]
     },
     "execution_count": 2,
     "metadata": {},
     "output_type": "execute_result"
    }
   ],
   "source": [
    "import os\n",
    "import mokapot\n",
    "import numpy as np\n",
    "import pandas as pd\n",
    "import matplotlib.pyplot as plt\n",
    "\n",
    "# Set the random seed:\n",
    "np.random.seed(1)\n",
    "\n",
    "# Colors for plotting:\n",
    "colors = (\"#343131\", \"#24B8A0\")\n",
    "\n",
    "# Find the input files:\n",
    "pin_files = [os.path.join(pin_dir, f) for f in os.listdir(pin_dir) \n",
    "             if f.startswith(\"scope2_FP97A\") and f.endswith(\".pin\")]\n",
    "\n",
    "pin_files"
   ]
  },
  {
   "cell_type": "markdown",
   "metadata": {},
   "source": [
    "If we want messages about the mokapot's progress throughout the analyses, then we need to enable it using the `logging` module: "
   ]
  },
  {
   "cell_type": "code",
   "execution_count": 3,
   "metadata": {},
   "outputs": [],
   "source": [
    "import logging\n",
    "\n",
    "# True enables messages and nicely formats them:\n",
    "log = False\n",
    "if log:\n",
    "    logging.basicConfig(\n",
    "        level=logging.INFO,\n",
    "        format=\"%(levelname)s: %(message)s\", \n",
    "    )"
   ]
  },
  {
   "cell_type": "markdown",
   "metadata": {},
   "source": [
    "## Analyze the experiments individually\n",
    "\n",
    "We'll start by analyzing each of the three experiments individually with mokapot: "
   ]
  },
  {
   "cell_type": "code",
   "execution_count": 4,
   "metadata": {},
   "outputs": [
    {
     "name": "stdout",
     "output_type": "stream",
     "text": [
      "Analyzing ../../../data/scope2_FP97AA.pin\n"
     ]
    },
    {
     "name": "stderr",
     "output_type": "stream",
     "text": [
      "WARNING:root:Learned model did not improve over the best feature. Now scoring by the best feature for each collection of PSMs.\n"
     ]
    },
    {
     "name": "stdout",
     "output_type": "stream",
     "text": [
      "Analyzing ../../../data/scope2_FP97AB.pin\n",
      "Analyzing ../../../data/scope2_FP97AC.pin\n"
     ]
    }
   ],
   "source": [
    "# A dictionary to store the results:\n",
    "sep_results = {}\n",
    "\n",
    "# Loop through the input files, analyzing each with mokapot:\n",
    "for pin in pin_files:\n",
    "    # Read PSMs and run mokapot\n",
    "    print(f\"Analyzing {pin}\")\n",
    "    psms = mokapot.read_pin(pin)\n",
    "    results, models = mokapot.brew(psms)\n",
    "    \n",
    "    # Add results to our result dictionary:\n",
    "    rep = os.path.split(pin)[-1].replace(\".pin\", \"\")\n",
    "    sep_results[rep] = results "
   ]
  },
  {
   "cell_type": "markdown",
   "metadata": {},
   "source": [
    "Note the warning for `scope3_FP97AA.pin` - mokapot failed to learn a good model for the data, which is likely due to the relatively small number of PSMs in the dataset. \n",
    "\n",
    "Now we can access the results from the dictionary:"
   ]
  },
  {
   "cell_type": "code",
   "execution_count": 5,
   "metadata": {},
   "outputs": [
    {
     "data": {
      "text/html": [
       "<div>\n",
       "<style scoped>\n",
       "    .dataframe tbody tr th:only-of-type {\n",
       "        vertical-align: middle;\n",
       "    }\n",
       "\n",
       "    .dataframe tbody tr th {\n",
       "        vertical-align: top;\n",
       "    }\n",
       "\n",
       "    .dataframe thead th {\n",
       "        text-align: right;\n",
       "    }\n",
       "</style>\n",
       "<table border=\"1\" class=\"dataframe\">\n",
       "  <thead>\n",
       "    <tr style=\"text-align: right;\">\n",
       "      <th></th>\n",
       "      <th>SpecId</th>\n",
       "      <th>Label</th>\n",
       "      <th>ScanNr</th>\n",
       "      <th>ExpMass</th>\n",
       "      <th>CalcMass</th>\n",
       "      <th>Peptide</th>\n",
       "      <th>mokapot score</th>\n",
       "      <th>mokapot q-value</th>\n",
       "      <th>mokapot PEP</th>\n",
       "      <th>Proteins</th>\n",
       "    </tr>\n",
       "  </thead>\n",
       "  <tbody>\n",
       "    <tr>\n",
       "      <th>0</th>\n",
       "      <td>target_0_11040_3_-1</td>\n",
       "      <td>True</td>\n",
       "      <td>11040</td>\n",
       "      <td>2789.4179</td>\n",
       "      <td>2789.4084</td>\n",
       "      <td>K.LVQDVANNTNEEAGDGTTTATVLAR.S</td>\n",
       "      <td>23.598709</td>\n",
       "      <td>0.000912</td>\n",
       "      <td>2.917290e-19</td>\n",
       "      <td>sp|P10809|CH60_HUMAN</td>\n",
       "    </tr>\n",
       "    <tr>\n",
       "      <th>1</th>\n",
       "      <td>target_0_8060_3_-1</td>\n",
       "      <td>True</td>\n",
       "      <td>8060</td>\n",
       "      <td>2154.1931</td>\n",
       "      <td>2154.1860</td>\n",
       "      <td>K.GAEAANVTGPGGVPVQGSK.Y</td>\n",
       "      <td>21.533703</td>\n",
       "      <td>0.000912</td>\n",
       "      <td>2.563543e-17</td>\n",
       "      <td>sp|P67809|YBOX1_HUMAN</td>\n",
       "    </tr>\n",
       "    <tr>\n",
       "      <th>2</th>\n",
       "      <td>target_0_11114_3_-1</td>\n",
       "      <td>True</td>\n",
       "      <td>11114</td>\n",
       "      <td>2618.3554</td>\n",
       "      <td>2617.3450</td>\n",
       "      <td>K.QTTVSNSQQAYQEAFEISK.K</td>\n",
       "      <td>20.623930</td>\n",
       "      <td>0.000912</td>\n",
       "      <td>1.841793e-16</td>\n",
       "      <td>sp|P31946|1433B_HUMAN</td>\n",
       "    </tr>\n",
       "    <tr>\n",
       "      <th>3</th>\n",
       "      <td>target_0_12043_3_-1</td>\n",
       "      <td>True</td>\n",
       "      <td>12043</td>\n",
       "      <td>2502.2946</td>\n",
       "      <td>2502.2815</td>\n",
       "      <td>K.GVVPLAGTN[0.98]GETTTQGLDGLSER.C</td>\n",
       "      <td>19.626017</td>\n",
       "      <td>0.000912</td>\n",
       "      <td>1.601810e-15</td>\n",
       "      <td>sp|P04075|ALDOA_HUMAN</td>\n",
       "    </tr>\n",
       "    <tr>\n",
       "      <th>4</th>\n",
       "      <td>target_0_10221_3_-1</td>\n",
       "      <td>True</td>\n",
       "      <td>10221</td>\n",
       "      <td>2424.1862</td>\n",
       "      <td>2424.1812</td>\n",
       "      <td>K.EQQEAIEHIDEVQNEIDR.L</td>\n",
       "      <td>18.178486</td>\n",
       "      <td>0.000912</td>\n",
       "      <td>3.691655e-14</td>\n",
       "      <td>sp|P0DME0|SETLP_HUMAN\\tsp|Q01105|SET_HUMAN</td>\n",
       "    </tr>\n",
       "  </tbody>\n",
       "</table>\n",
       "</div>"
      ],
      "text/plain": [
       "                SpecId  Label  ScanNr    ExpMass   CalcMass  \\\n",
       "0  target_0_11040_3_-1   True   11040  2789.4179  2789.4084   \n",
       "1   target_0_8060_3_-1   True    8060  2154.1931  2154.1860   \n",
       "2  target_0_11114_3_-1   True   11114  2618.3554  2617.3450   \n",
       "3  target_0_12043_3_-1   True   12043  2502.2946  2502.2815   \n",
       "4  target_0_10221_3_-1   True   10221  2424.1862  2424.1812   \n",
       "\n",
       "                             Peptide  mokapot score  mokapot q-value  \\\n",
       "0      K.LVQDVANNTNEEAGDGTTTATVLAR.S      23.598709         0.000912   \n",
       "1            K.GAEAANVTGPGGVPVQGSK.Y      21.533703         0.000912   \n",
       "2            K.QTTVSNSQQAYQEAFEISK.K      20.623930         0.000912   \n",
       "3  K.GVVPLAGTN[0.98]GETTTQGLDGLSER.C      19.626017         0.000912   \n",
       "4             K.EQQEAIEHIDEVQNEIDR.L      18.178486         0.000912   \n",
       "\n",
       "    mokapot PEP                                    Proteins  \n",
       "0  2.917290e-19                        sp|P10809|CH60_HUMAN  \n",
       "1  2.563543e-17                       sp|P67809|YBOX1_HUMAN  \n",
       "2  1.841793e-16                       sp|P31946|1433B_HUMAN  \n",
       "3  1.601810e-15                       sp|P04075|ALDOA_HUMAN  \n",
       "4  3.691655e-14  sp|P0DME0|SETLP_HUMAN\\tsp|Q01105|SET_HUMAN  "
      ]
     },
     "execution_count": 5,
     "metadata": {},
     "output_type": "execute_result"
    }
   ],
   "source": [
    "sep_results[\"scope2_FP97AA\"].psms.head()"
   ]
  },
  {
   "cell_type": "markdown",
   "metadata": {},
   "source": [
    "## Analyze the experiments with a joint model\n",
    "\n",
    "Similarly, we'll use the joint modeling strategy to analyze these experiments. Instead of supplying one collection of PSMs (a [LinearPsmDataset](../api/dataset.html#mokapot.dataset.LinearPsmDataset)) to the [brew()](../api/functions.html#mokapot.brew) function, we supply a list of them:"
   ]
  },
  {
   "cell_type": "code",
   "execution_count": 6,
   "metadata": {},
   "outputs": [],
   "source": [
    "# A dictionary to store the results:\n",
    "joint_results = {}\n",
    "\n",
    "# Read each input file:\n",
    "psms_list = [mokapot.read_pin(f) for f in pin_files]\n",
    "\n",
    "# Run mokapot on all of the files:\n",
    "results, brew = mokapot.brew(psms_list)\n",
    "    \n",
    "# Add results to our result dictionary:\n",
    "for pin, result in zip(pin_files, results):\n",
    "    rep = os.path.split(pin)[-1].replace(\".pin\", \"\")\n",
    "    joint_results[rep] = result"
   ]
  },
  {
   "cell_type": "markdown",
   "metadata": {},
   "source": [
    "## Compare Performance\n",
    "\n",
    "Now that we've finished running our mokapot analyses, we'll compare the results from both methods. First, let's investigate if there any differences in our power to detect PSMs and peptides:"
   ]
  },
  {
   "cell_type": "code",
   "execution_count": 7,
   "metadata": {},
   "outputs": [
    {
     "data": {
      "image/png": "[encoded data removed]",
      "text/plain": [
       "<Figure size 720x432 with 6 Axes>"
      ]
     },
     "metadata": {
      "needs_background": "light"
     },
     "output_type": "display_data"
    }
   ],
   "source": [
    "fig, axs = plt.subplots(2, 3, figsize=(10, 6))\n",
    "\n",
    "# Put experiments in a logical order:\n",
    "experiments = list(sep_results.keys())\n",
    "experiments.sort()\n",
    "\n",
    "# Plot the perfomance of each:\n",
    "gain = {}\n",
    "for col, exp in zip(axs.T, experiments):\n",
    "    col[0].set_title(exp)\n",
    "    for ax, level in zip(col, [\"psms\", \"peptides\"]):\n",
    "        # Plot the number of PSMs accepted at each FDR threshold\n",
    "        sep_results[exp].plot_qvalues(level=level, ax=ax, c=colors[0],\n",
    "                                      label=\"Independent Models\")\n",
    "        joint_results[exp].plot_qvalues(level=level, ax=ax, c=colors[1],\n",
    "                                        label=\"Joint Model\")\n",
    "        ax.legend(frameon=False)\n",
    "        \n",
    "plt.tight_layout()\n",
    "plt.show()"
   ]
  },
  {
   "cell_type": "markdown",
   "metadata": {},
   "source": [
    "For these experiments, there appears to be a modest gain in power when the joint modeling strategy is used. This result was expected, because this is a subset of experiments that [benefited from using a static model with Percolator](https://doi.org/10.1021/acs.jproteome.9b00780). \n",
    "\n",
    "Let's also take a look at the detected peptides that are shared across the three experiments:"
   ]
  },
  {
   "cell_type": "code",
   "execution_count": 8,
   "metadata": {},
   "outputs": [
    {
     "data": {
      "image/png": "[encoded data removed]",
      "text/plain": [
       "<Figure size 432x288 with 1 Axes>"
      ]
     },
     "metadata": {
      "needs_background": "light"
     },
     "output_type": "display_data"
    }
   ],
   "source": [
    "def count_reps(res_dict, fdr=0.01):\n",
    "    \"\"\"\n",
    "    Count the number of replicates in which each peptide is detected.\n",
    "    \n",
    "    Parameters\n",
    "    ----------\n",
    "    res_dict : Dict\n",
    "        A result dictionary from above.\n",
    "    fdr : float\n",
    "        The FDR threshold below which to accept peptides.\n",
    "    \n",
    "    Returns\n",
    "    -------\n",
    "    pandas.DataFrame\n",
    "        A DataFrame with the counts for the number of peptides\n",
    "        detected in a number of replicates.\n",
    "    \"\"\"\n",
    "    peps = {k: set(p.peptides[\"Peptide\"][p.peptides[\"mokapot q-value\"] <= 0.01])\n",
    "            for k, p in res_dict.items()}\n",
    "    \n",
    "    all_peps = peps[list(peps.keys())[0]].union(*peps.values())\n",
    "    \n",
    "    reps = []\n",
    "    for peptide in all_peps:\n",
    "        reps.append(sum([peptide in r for r in peps.values()]))\n",
    "        \n",
    "    ret = pd.Series(reps).value_counts().reset_index().sort_values(\"index\")\n",
    "    ret.columns = [\"num_reps\", \"num_peptides\"]\n",
    "    return ret\n",
    "\n",
    "sep_reps = count_reps(sep_results)\n",
    "joint_reps = count_reps(joint_results)\n",
    "\n",
    "plt.figure()\n",
    "plt.plot(sep_reps[\"num_reps\"].values, sep_reps[\"num_peptides\"], c=colors[0])\n",
    "plt.scatter(sep_reps[\"num_reps\"].values, sep_reps[\"num_peptides\"], \n",
    "            label=\"Independent models\", color=colors[0])\n",
    "plt.plot(joint_reps[\"num_reps\"].values, joint_reps[\"num_peptides\"], c=colors[1])\n",
    "plt.scatter(joint_reps[\"num_reps\"].values, joint_reps[\"num_peptides\"],\n",
    "            label=\"Joint model\", c=colors[1])\n",
    "\n",
    "plt.xticks([1, 2, 3])\n",
    "plt.xlabel(\"Number of Replicates Dectected\")\n",
    "plt.ylabel(\"Number of Peptides\")\n",
    "plt.legend(frameon=False)\n",
    "\n",
    "plt.tight_layout()\n",
    "plt.show()"
   ]
  },
  {
   "cell_type": "markdown",
   "metadata": {},
   "source": [
    "Now we can see that using the joint modeling approach increases the number of PSMs that are detected in across all three experiments. In effect, this leads to fewer missing values in downstream tasks and can have quite a large impact when many experiments are analyzed together."
   ]
  },
  {
   "cell_type": "markdown",
   "metadata": {},
   "source": [
    "## Wrapping up\n",
    "\n",
    "In this vignette we demonstrated how the joint modeling approach available in mokapot can be valuable when analyzing datasets that consist of multiple experiments. It's worth noting that this is particularly beneficial when the total number of PSMs or the number of high-quality PSMs is small, such as is the case with single-cell proteomics experiments we analyzed. For larger experiments, there is typically little to no difference between analyzing the experiments independently or with a joint model."
   ]
  }
 ],
 "metadata": {
  "kernelspec": {
   "display_name": "Python 3 (ipykernel)",
   "language": "python",
   "name": "python3"
  },
  "language_info": {
   "codemirror_mode": {
    "name": "ipython",
    "version": 3
   },
   "file_extension": ".py",
   "mimetype": "text/x-python",
   "name": "python",
   "nbconvert_exporter": "python",
   "pygments_lexer": "ipython3",
   "version": "3.8.13"
  }
 },
 "nbformat": 4,
 "nbformat_minor": 4
}
